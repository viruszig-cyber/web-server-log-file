{
 "cells": [
  {
   "cell_type": "markdown",
   "metadata": {},
   "source": [
    "## lynn tinashe zigara R207669D HDSC\n",
    "### Assignment 1\n",
    "\n",
    "## if you face any challenges app me "
   ]
  },
  {
   "cell_type": "code",
   "execution_count": 100,
   "metadata": {},
   "outputs": [],
   "source": [
    "#!pip install networkx\n",
    "#the virus"
   ]
  },
  {
   "cell_type": "code",
   "execution_count": 68,
   "metadata": {},
   "outputs": [],
   "source": [
    "import numpy as np \n",
    "import pandas as pd\n",
    "import re\n",
    "import numpy as np\n",
    "import matplotlib.pyplot as plt\n",
    "from sklearn.decomposition import PCA\n",
    "from sklearn.cluster import KMeans\n",
    "from sklearn.preprocessing import StandardScaler\n",
    "import networkx as nx\n",
    "import matplotlib.pyplot as plt\n",
    "import argparse\n",
    "import logging\n",
    "import random\n",
    "#import thevirus\n"
   ]
  },
  {
   "cell_type": "markdown",
   "metadata": {},
   "source": [
    "The log file comprises 3.3GB of web server logs extracted from zanbil.ir, an Iranian ecommerce platform, offering a comprehensive view of user interactions, crawler activities, and business trends. This log file, compiled by Zaker and Farzin in 2019, is available via Harvard Dataverse for research and analytical purposes.\n",
    "Dataset Link: [Web Server log file](https://doi.org/10.7910/DVN/3QBYB5)"
   ]
  },
  {
   "cell_type": "markdown",
   "metadata": {},
   "source": [
    "I extracted relevant information such as client IP, user ID, timestamp, HTTP method, request, status code, size, referer, and user agent from each log line."
   ]
  },
  {
   "cell_type": "code",
   "execution_count": 69,
   "metadata": {},
   "outputs": [],
   "source": [
    "\n",
    "log = 'access.log'\n",
    "\n",
    "# Define the regex pattern to extract information from log lines\n",
    "regex_pattern = r'^(?P<client>\\S+) \\S+ (?P<userid>\\S+) \\[(?P<datetime>[\\w:/]+\\s[+\\-]\\d{4})\\] \"(?P<method>[A-Z]+) (?P<request>[^ \"]+)? HTTP/[0-9.]+\" (?P<status>[0-9]{3}) (?P<size>[0-9]+|-) \"(?P<referer>[^\"]*)\" \"(?P<user_agent>[^\"]*)\"'\n",
    "\n",
    "# Define the column names\n",
    "virus = ['client', 'userid', 'datetime', 'method', 'request', 'status', 'size', 'referer', 'user_agent']\n",
    "\n",
    "log_data = []\n",
    "with open(log, 'r') as file:\n",
    "    for i, line in enumerate(file):\n",
    "        if i >= 10000:\n",
    "            break\n",
    "        match = re.match(regex_pattern, line)\n",
    "        if match:\n",
    "            log_data.append({\n",
    "                'client': match.group('client'),\n",
    "                'userid': match.group('userid'),\n",
    "                'datetime': match.group('datetime'),\n",
    "                'method': match.group('method'),\n",
    "                'request': match.group('request'),\n",
    "                'status': match.group('status'),\n",
    "                'size': match.group('size'),\n",
    "                'referer': match.group('referer'),\n",
    "                'user_agent': match.group('user_agent')\n",
    "            })\n",
    "        else:\n",
    "            print(\"Error: Line does not match regex pattern:\", line)\n",
    "\n",
    "\n",
    "data_logs = pd.DataFrame(log_data, columns=virus)"
   ]
  },
  {
   "cell_type": "code",
   "execution_count": 70,
   "metadata": {},
   "outputs": [
    {
     "data": {
      "text/html": [
       "<div>\n",
       "<style scoped>\n",
       "    .dataframe tbody tr th:only-of-type {\n",
       "        vertical-align: middle;\n",
       "    }\n",
       "\n",
       "    .dataframe tbody tr th {\n",
       "        vertical-align: top;\n",
       "    }\n",
       "\n",
       "    .dataframe thead th {\n",
       "        text-align: right;\n",
       "    }\n",
       "</style>\n",
       "<table border=\"1\" class=\"dataframe\">\n",
       "  <thead>\n",
       "    <tr style=\"text-align: right;\">\n",
       "      <th></th>\n",
       "      <th>client</th>\n",
       "      <th>userid</th>\n",
       "      <th>datetime</th>\n",
       "      <th>method</th>\n",
       "      <th>request</th>\n",
       "      <th>status</th>\n",
       "      <th>size</th>\n",
       "      <th>referer</th>\n",
       "      <th>user_agent</th>\n",
       "    </tr>\n",
       "  </thead>\n",
       "  <tbody>\n",
       "    <tr>\n",
       "      <th>0</th>\n",
       "      <td>54.36.149.41</td>\n",
       "      <td>-</td>\n",
       "      <td>22/Jan/2019:03:56:14 +0330</td>\n",
       "      <td>GET</td>\n",
       "      <td>/filter/27|13%20%D9%85%DA%AF%D8%A7%D9%BE%DB%8C...</td>\n",
       "      <td>200</td>\n",
       "      <td>30577</td>\n",
       "      <td>-</td>\n",
       "      <td>Mozilla/5.0 (compatible; AhrefsBot/6.1; +http:...</td>\n",
       "    </tr>\n",
       "    <tr>\n",
       "      <th>1</th>\n",
       "      <td>31.56.96.51</td>\n",
       "      <td>-</td>\n",
       "      <td>22/Jan/2019:03:56:16 +0330</td>\n",
       "      <td>GET</td>\n",
       "      <td>/image/60844/productModel/200x200</td>\n",
       "      <td>200</td>\n",
       "      <td>5667</td>\n",
       "      <td>https://www.zanbil.ir/m/filter/b113</td>\n",
       "      <td>Mozilla/5.0 (Linux; Android 6.0; ALE-L21 Build...</td>\n",
       "    </tr>\n",
       "    <tr>\n",
       "      <th>2</th>\n",
       "      <td>31.56.96.51</td>\n",
       "      <td>-</td>\n",
       "      <td>22/Jan/2019:03:56:16 +0330</td>\n",
       "      <td>GET</td>\n",
       "      <td>/image/61474/productModel/200x200</td>\n",
       "      <td>200</td>\n",
       "      <td>5379</td>\n",
       "      <td>https://www.zanbil.ir/m/filter/b113</td>\n",
       "      <td>Mozilla/5.0 (Linux; Android 6.0; ALE-L21 Build...</td>\n",
       "    </tr>\n",
       "    <tr>\n",
       "      <th>3</th>\n",
       "      <td>40.77.167.129</td>\n",
       "      <td>-</td>\n",
       "      <td>22/Jan/2019:03:56:17 +0330</td>\n",
       "      <td>GET</td>\n",
       "      <td>/image/14925/productModel/100x100</td>\n",
       "      <td>200</td>\n",
       "      <td>1696</td>\n",
       "      <td>-</td>\n",
       "      <td>Mozilla/5.0 (compatible; bingbot/2.0; +http://...</td>\n",
       "    </tr>\n",
       "    <tr>\n",
       "      <th>4</th>\n",
       "      <td>91.99.72.15</td>\n",
       "      <td>-</td>\n",
       "      <td>22/Jan/2019:03:56:17 +0330</td>\n",
       "      <td>GET</td>\n",
       "      <td>/product/31893/62100/%D8%B3%D8%B4%D9%88%D8%A7%...</td>\n",
       "      <td>200</td>\n",
       "      <td>41483</td>\n",
       "      <td>-</td>\n",
       "      <td>Mozilla/5.0 (Windows NT 6.2; Win64; x64; rv:16...</td>\n",
       "    </tr>\n",
       "    <tr>\n",
       "      <th>...</th>\n",
       "      <td>...</td>\n",
       "      <td>...</td>\n",
       "      <td>...</td>\n",
       "      <td>...</td>\n",
       "      <td>...</td>\n",
       "      <td>...</td>\n",
       "      <td>...</td>\n",
       "      <td>...</td>\n",
       "      <td>...</td>\n",
       "    </tr>\n",
       "    <tr>\n",
       "      <th>9995</th>\n",
       "      <td>5.120.22.214</td>\n",
       "      <td>-</td>\n",
       "      <td>22/Jan/2019:04:36:57 +0330</td>\n",
       "      <td>GET</td>\n",
       "      <td>/blog/home-appliances/%D9%86%DA%A9%D8%A7%D8%AA...</td>\n",
       "      <td>200</td>\n",
       "      <td>24941</td>\n",
       "      <td>https://www.google.com/</td>\n",
       "      <td>Mozilla/5.0 (Linux; Android 5.1.1; SAMSUNG SM-...</td>\n",
       "    </tr>\n",
       "    <tr>\n",
       "      <th>9996</th>\n",
       "      <td>192.15.6.66</td>\n",
       "      <td>-</td>\n",
       "      <td>22/Jan/2019:04:36:57 +0330</td>\n",
       "      <td>GET</td>\n",
       "      <td>/product/28237/57015/%D9%87%D9%88%D8%AF-%D8%B2...</td>\n",
       "      <td>302</td>\n",
       "      <td>0</td>\n",
       "      <td>http://api.torob.com/</td>\n",
       "      <td>Mozilla/5.0 (Linux; Android 8.0.0; LG-H990 Bui...</td>\n",
       "    </tr>\n",
       "    <tr>\n",
       "      <th>9997</th>\n",
       "      <td>37.129.232.66</td>\n",
       "      <td>-</td>\n",
       "      <td>22/Jan/2019:04:36:57 +0330</td>\n",
       "      <td>GET</td>\n",
       "      <td>/static/images/guarantees/warranty.png</td>\n",
       "      <td>200</td>\n",
       "      <td>5807</td>\n",
       "      <td>https://www.zanbil.ir/m/filter/b785</td>\n",
       "      <td>Mozilla/5.0 (Linux; Android 7.0; RNE-L21 Build...</td>\n",
       "    </tr>\n",
       "    <tr>\n",
       "      <th>9998</th>\n",
       "      <td>37.129.232.66</td>\n",
       "      <td>-</td>\n",
       "      <td>22/Jan/2019:04:36:57 +0330</td>\n",
       "      <td>GET</td>\n",
       "      <td>/static/images/guarantees/bestPrice.png</td>\n",
       "      <td>200</td>\n",
       "      <td>7356</td>\n",
       "      <td>https://www.zanbil.ir/m/filter/b785</td>\n",
       "      <td>Mozilla/5.0 (Linux; Android 7.0; RNE-L21 Build...</td>\n",
       "    </tr>\n",
       "    <tr>\n",
       "      <th>9999</th>\n",
       "      <td>37.129.232.66</td>\n",
       "      <td>-</td>\n",
       "      <td>22/Jan/2019:04:36:57 +0330</td>\n",
       "      <td>GET</td>\n",
       "      <td>/static/images/guarantees/goodShopping.png</td>\n",
       "      <td>200</td>\n",
       "      <td>6496</td>\n",
       "      <td>https://www.zanbil.ir/m/filter/b785</td>\n",
       "      <td>Mozilla/5.0 (Linux; Android 7.0; RNE-L21 Build...</td>\n",
       "    </tr>\n",
       "  </tbody>\n",
       "</table>\n",
       "<p>10000 rows × 9 columns</p>\n",
       "</div>"
      ],
      "text/plain": [
       "             client userid                    datetime method  \\\n",
       "0      54.36.149.41      -  22/Jan/2019:03:56:14 +0330    GET   \n",
       "1       31.56.96.51      -  22/Jan/2019:03:56:16 +0330    GET   \n",
       "2       31.56.96.51      -  22/Jan/2019:03:56:16 +0330    GET   \n",
       "3     40.77.167.129      -  22/Jan/2019:03:56:17 +0330    GET   \n",
       "4       91.99.72.15      -  22/Jan/2019:03:56:17 +0330    GET   \n",
       "...             ...    ...                         ...    ...   \n",
       "9995   5.120.22.214      -  22/Jan/2019:04:36:57 +0330    GET   \n",
       "9996    192.15.6.66      -  22/Jan/2019:04:36:57 +0330    GET   \n",
       "9997  37.129.232.66      -  22/Jan/2019:04:36:57 +0330    GET   \n",
       "9998  37.129.232.66      -  22/Jan/2019:04:36:57 +0330    GET   \n",
       "9999  37.129.232.66      -  22/Jan/2019:04:36:57 +0330    GET   \n",
       "\n",
       "                                                request status   size  \\\n",
       "0     /filter/27|13%20%D9%85%DA%AF%D8%A7%D9%BE%DB%8C...    200  30577   \n",
       "1                     /image/60844/productModel/200x200    200   5667   \n",
       "2                     /image/61474/productModel/200x200    200   5379   \n",
       "3                     /image/14925/productModel/100x100    200   1696   \n",
       "4     /product/31893/62100/%D8%B3%D8%B4%D9%88%D8%A7%...    200  41483   \n",
       "...                                                 ...    ...    ...   \n",
       "9995  /blog/home-appliances/%D9%86%DA%A9%D8%A7%D8%AA...    200  24941   \n",
       "9996  /product/28237/57015/%D9%87%D9%88%D8%AF-%D8%B2...    302      0   \n",
       "9997             /static/images/guarantees/warranty.png    200   5807   \n",
       "9998            /static/images/guarantees/bestPrice.png    200   7356   \n",
       "9999         /static/images/guarantees/goodShopping.png    200   6496   \n",
       "\n",
       "                                  referer  \\\n",
       "0                                       -   \n",
       "1     https://www.zanbil.ir/m/filter/b113   \n",
       "2     https://www.zanbil.ir/m/filter/b113   \n",
       "3                                       -   \n",
       "4                                       -   \n",
       "...                                   ...   \n",
       "9995              https://www.google.com/   \n",
       "9996                http://api.torob.com/   \n",
       "9997  https://www.zanbil.ir/m/filter/b785   \n",
       "9998  https://www.zanbil.ir/m/filter/b785   \n",
       "9999  https://www.zanbil.ir/m/filter/b785   \n",
       "\n",
       "                                             user_agent  \n",
       "0     Mozilla/5.0 (compatible; AhrefsBot/6.1; +http:...  \n",
       "1     Mozilla/5.0 (Linux; Android 6.0; ALE-L21 Build...  \n",
       "2     Mozilla/5.0 (Linux; Android 6.0; ALE-L21 Build...  \n",
       "3     Mozilla/5.0 (compatible; bingbot/2.0; +http://...  \n",
       "4     Mozilla/5.0 (Windows NT 6.2; Win64; x64; rv:16...  \n",
       "...                                                 ...  \n",
       "9995  Mozilla/5.0 (Linux; Android 5.1.1; SAMSUNG SM-...  \n",
       "9996  Mozilla/5.0 (Linux; Android 8.0.0; LG-H990 Bui...  \n",
       "9997  Mozilla/5.0 (Linux; Android 7.0; RNE-L21 Build...  \n",
       "9998  Mozilla/5.0 (Linux; Android 7.0; RNE-L21 Build...  \n",
       "9999  Mozilla/5.0 (Linux; Android 7.0; RNE-L21 Build...  \n",
       "\n",
       "[10000 rows x 9 columns]"
      ]
     },
     "execution_count": 70,
     "metadata": {},
     "output_type": "execute_result"
    }
   ],
   "source": [
    "data_logs"
   ]
  },
  {
   "cell_type": "code",
   "execution_count": 71,
   "metadata": {},
   "outputs": [
    {
     "name": "stdout",
     "output_type": "stream",
     "text": [
      "<class 'pandas.core.frame.DataFrame'>\n",
      "RangeIndex: 10000 entries, 0 to 9999\n",
      "Data columns (total 9 columns):\n",
      " #   Column      Non-Null Count  Dtype \n",
      "---  ------      --------------  ----- \n",
      " 0   client      10000 non-null  object\n",
      " 1   userid      10000 non-null  object\n",
      " 2   datetime    10000 non-null  object\n",
      " 3   method      10000 non-null  object\n",
      " 4   request     10000 non-null  object\n",
      " 5   status      10000 non-null  object\n",
      " 6   size        10000 non-null  object\n",
      " 7   referer     10000 non-null  object\n",
      " 8   user_agent  10000 non-null  object\n",
      "dtypes: object(9)\n",
      "memory usage: 703.3+ KB\n"
     ]
    }
   ],
   "source": [
    "\n",
    "data_logs.info()"
   ]
  },
  {
   "cell_type": "code",
   "execution_count": 72,
   "metadata": {},
   "outputs": [],
   "source": [
    "from datetime import datetime\n",
    "import pytz"
   ]
  },
  {
   "cell_type": "code",
   "execution_count": 73,
   "metadata": {},
   "outputs": [],
   "source": [
    "# Function to parse the datetime (from the class session practice exercise)\n",
    "def parse_datetime(x):\n",
    "  \n",
    "    try:\n",
    "        dt = datetime.strptime(x[1:-7], '%d/%b/%Y:%H:%M:%S')\n",
    "        dt_tz = int(x[-6:-3])*60+int(x[-3:-1])\n",
    "        return dt.replace(tzinfo=pytz.FixedOffset(dt_tz))\n",
    "    except ValueError:\n",
    "        return 'done virus'"
   ]
  },
  {
   "cell_type": "code",
   "execution_count": 74,
   "metadata": {},
   "outputs": [],
   "source": [
    "data_logs['status'] = data_logs['status'].astype(int)\n",
    "data_logs['size'] = data_logs['size'].astype(int)\n",
    "data_logs['datetime'] = data_logs['datetime'].apply(parse_datetime)"
   ]
  },
  {
   "cell_type": "code",
   "execution_count": 75,
   "metadata": {},
   "outputs": [
    {
     "name": "stdout",
     "output_type": "stream",
     "text": [
      "['-']\n"
     ]
    }
   ],
   "source": [
    "#Dropping the userid column\n",
    "users = data_logs['userid'].unique()\n",
    "print(users)"
   ]
  },
  {
   "cell_type": "code",
   "execution_count": 76,
   "metadata": {},
   "outputs": [],
   "source": [
    "data_logs.drop(columns=['userid'], inplace=True)"
   ]
  },
  {
   "cell_type": "code",
   "execution_count": 77,
   "metadata": {},
   "outputs": [
    {
     "name": "stdout",
     "output_type": "stream",
     "text": [
      "Number of duplicates: 49\n"
     ]
    }
   ],
   "source": [
    "#Dropping duplicates\n",
    "# Count duplicates in the dataframe\n",
    "duplicate_count = data_logs.duplicated().sum()\n",
    "\n",
    "# Display the count of duplicates\n",
    "print(\"Number of duplicates:\", duplicate_count)\n",
    "\n",
    "# Drop the duplicates\n",
    "data_logs = data_logs.drop_duplicates()"
   ]
  },
  {
   "cell_type": "markdown",
   "metadata": {},
   "source": [
    "### 1. Find 10 people who visited the site frequently, show the information that identifies the people and state why you identify these people as frequent visitors. [5 ]"
   ]
  },
  {
   "cell_type": "code",
   "execution_count": 78,
   "metadata": {},
   "outputs": [
    {
     "name": "stdout",
     "output_type": "stream",
     "text": [
      "1. Client: 66.249.66.194, User Agent: Mozilla/5.0 (Linux; Android 6.0.1; Nexus 5X Build/MMB29P) AppleWebKit/537.36 (KHTML, like Gecko) Chrome/41.0.2272.96 Mobile Safari/537.36 (compatible; Googlebot/2.1; +http://www.google.com/bot.html), Count: 778\n",
      "\n",
      "2. Client: 66.249.66.91, User Agent: Mozilla/5.0 (compatible; Googlebot/2.1; +http://www.google.com/bot.html), Count: 739\n",
      "\n",
      "3. Client: 130.185.74.243, User Agent: Mozilla/5.0 (Windows NT 6.1; rv:42.0) Gecko/20100101 Firefox/42.0, Count: 660\n",
      "\n",
      "4. Client: 66.249.66.194, User Agent: Mozilla/5.0 (compatible; Googlebot/2.1; +http://www.google.com/bot.html), Count: 558\n",
      "\n",
      "5. Client: 5.211.97.39, User Agent: Mozilla/5.0 (iPhone; CPU iPhone OS 10_3_2 like Mac OS X) AppleWebKit/603.2.4 (KHTML, like Gecko) Version/10.0 Mobile/14F89 Safari/602.1, Count: 474\n",
      "\n",
      "6. Client: 207.46.13.136, User Agent: Mozilla/5.0 (compatible; bingbot/2.0; +http://www.bing.com/bingbot.htm), Count: 416\n",
      "\n",
      "7. Client: 194.94.127.7, User Agent: Mozilla/5.0 (Windows NT 6.1; Win64; x64) AppleWebKit/537.36 (KHTML, like Gecko) Chrome/65.0.3325.181 Safari/537.36\\x09Chrome 65.0, Count: 225\n",
      "\n",
      "8. Client: 23.101.169.3, User Agent: Mozilla/5.0 (compatible; MSIE 9.0; Windows NT 6.1; Trident/5.0;  Trident/5.0), Count: 204\n",
      "\n",
      "9. Client: 5.121.43.23, User Agent: Mozilla/5.0 (Linux; Android 7.0; FRD-L09) AppleWebKit/537.36 (KHTML, like Gecko) Chrome/70.0.3538.80 Mobile Safari/537.36, Count: 165\n",
      "\n",
      "10. Client: 40.77.167.170, User Agent: Mozilla/5.0 (compatible; bingbot/2.0; +http://www.bing.com/bingbot.htm), Count: 164\n",
      "\n"
     ]
    }
   ],
   "source": [
    "# Group by client and user_agent, count occurrences, and sort in descending order\n",
    "frequent_visitors = data_logs.groupby(['client', 'user_agent']).size().reset_index(name='count').sort_values(by='count', ascending=False)\n",
    "\n",
    "# Select the top 10 frequent visitors\n",
    "top_10 = frequent_visitors.head(10)\n",
    "\n",
    "index = 0\n",
    "# Display the top 10 frequent visitors\n",
    "for i, row in top_10.iterrows():\n",
    "    print(f\"{index + 1}. Client: {row['client']}, User Agent: {row['user_agent']}, Count: {row['count']}\\n\")\n",
    "    index += 1"
   ]
  },
  {
   "cell_type": "markdown",
   "metadata": {},
   "source": [
    "### 2. Show at least five sessions and the page views per each session. [5 ]"
   ]
  },
  {
   "cell_type": "code",
   "execution_count": 79,
   "metadata": {},
   "outputs": [],
   "source": [
    "# Group by client and user_agent to identify sessions and count page views per session\n",
    "sessions = data_logs.groupby(['client', 'user_agent'])\n",
    "\n",
    "# Initialize empty lists to store session information\n",
    "session_info = []\n",
    "\n",
    "# Iterate over each session\n",
    "for (client, user_agent), session_data in sessions:\n",
    "    # Extract timestamps and page views for the session\n",
    "    timestamps = session_data['datetime'].tolist()\n",
    "    pages = session_data['request'].tolist()\n",
    "    \n",
    "    # Store session information in a tuple\n",
    "    session_info.append((client, user_agent, timestamps, pages))"
   ]
  },
  {
   "cell_type": "code",
   "execution_count": 80,
   "metadata": {},
   "outputs": [
    {
     "data": {
      "text/plain": [
       "[('104.194.24.33',\n",
       "  'Mozilla/5.0 (Linux; Android 8.0.0; SM-G955F) AppleWebKit/537.36 (KHTML, like Gecko) Chrome/71.0.3578.99 Mobile Safari/537.36',\n",
       "  [Timestamp('2019-01-02 03:57:00+0033', tz='pytz.FixedOffset(33)')],\n",
       "  ['/amp-helper-frame.html?appId=a624a1c1-0c93-466a-a546-e146710f97e6&parentOrigin=https://www-zanbil-ir.cdn.ampproject.org']),\n",
       " ('104.194.24.54',\n",
       "  'Dalvik/2.1.0 (Linux; U; Android 6.0.1; SM-G900H Build/MMB29K)',\n",
       "  [Timestamp('2019-01-02 04:24:00+0033', tz='pytz.FixedOffset(33)'),\n",
       "   Timestamp('2019-01-02 04:26:04+0033', tz='pytz.FixedOffset(33)')],\n",
       "  ['/image/33888?name=model-b2048u-1-.jpg&wh=200x200',\n",
       "   '/image/11947?name=11947-1-fw.jpg&wh=200x200']),\n",
       " ('104.194.25.207',\n",
       "  'Dalvik/2.1.0 (Linux; U; Android 5.0.2; P01V Build/LRX22G)',\n",
       "  [Timestamp('2019-01-02 04:06:04+0033', tz='pytz.FixedOffset(33)'),\n",
       "   Timestamp('2019-01-02 04:06:05+0033', tz='pytz.FixedOffset(33)'),\n",
       "   Timestamp('2019-01-02 04:06:05+0033', tz='pytz.FixedOffset(33)')],\n",
       "  ['/image/33888?name=model-b2048u-1-.jpg&wh=200x200',\n",
       "   '/image/11947?name=11947-1-fw.jpg&wh=200x200',\n",
       "   '/image/11926?name=sm812aaa.jpg&wh=200x200']),\n",
       " ('104.248.138.218',\n",
       "  'Mozilla/5.0 (iPhone; CPU iPhone OS 12_1_2 like Mac OS X) AppleWebKit/605.1.15 (KHTML, like Gecko) Version/12.0 Mobile/15E148 Safari/604.1',\n",
       "  [Timestamp('2019-01-02 04:35:01+0033', tz='pytz.FixedOffset(33)'),\n",
       "   Timestamp('2019-01-02 04:35:01+0033', tz='pytz.FixedOffset(33)'),\n",
       "   Timestamp('2019-01-02 04:35:01+0033', tz='pytz.FixedOffset(33)'),\n",
       "   Timestamp('2019-01-02 04:35:02+0033', tz='pytz.FixedOffset(33)'),\n",
       "   Timestamp('2019-01-02 04:35:02+0033', tz='pytz.FixedOffset(33)'),\n",
       "   Timestamp('2019-01-02 04:35:02+0033', tz='pytz.FixedOffset(33)'),\n",
       "   Timestamp('2019-01-02 04:35:02+0033', tz='pytz.FixedOffset(33)'),\n",
       "   Timestamp('2019-01-02 04:35:02+0033', tz='pytz.FixedOffset(33)'),\n",
       "   Timestamp('2019-01-02 04:35:03+0033', tz='pytz.FixedOffset(33)'),\n",
       "   Timestamp('2019-01-02 04:36:00+0033', tz='pytz.FixedOffset(33)'),\n",
       "   Timestamp('2019-01-02 04:36:02+0033', tz='pytz.FixedOffset(33)')],\n",
       "  ['/m/browse/sewing-machine/%DA%86%D8%B1%D8%AE-%D8%AE%DB%8C%D8%A7%D8%B7%DB%8C',\n",
       "   '/favicon.ico',\n",
       "   '/static/images/guarantees/goodShopping.png',\n",
       "   '/static/css/font/wyekan/font.woff',\n",
       "   '/static/images/guarantees/bestPrice.png',\n",
       "   '/static/images/guarantees/warranty.png',\n",
       "   '/static/images/guarantees/support.png',\n",
       "   '/static/images/guarantees/fastDelivery.png',\n",
       "   '/m/browse/dishwasher/%D9%85%D8%A7%D8%B4%DB%8C%D9%86-%D8%B8%D8%B1%D9%81%D8%B4%D9%88%DB%8C%DB%8C',\n",
       "   '/m/browse/sewing-machine/%DA%86%D8%B1%D8%AE-%D8%AE%DB%8C%D8%A7%D8%B7%DB%8C',\n",
       "   '/m/browse/sewing-machine/%DA%86%D8%B1%D8%AE-%D8%AE%DB%8C%D8%A7%D8%B7%DB%8C']),\n",
       " ('104.248.16.204',\n",
       "  'torob/5 CFNetwork/975.0.3 Darwin/18.2.0',\n",
       "  [Timestamp('2019-01-02 04:16:01+0033', tz='pytz.FixedOffset(33)')],\n",
       "  ['/image/33626?name=iphonexs_spacegray.jpg&wh=200x200'])]"
      ]
     },
     "execution_count": 80,
     "metadata": {},
     "output_type": "execute_result"
    }
   ],
   "source": [
    "session_info[1:6]"
   ]
  },
  {
   "cell_type": "code",
   "execution_count": 81,
   "metadata": {},
   "outputs": [
    {
     "name": "stdout",
     "output_type": "stream",
     "text": [
      "Session 1 - Client: 104.156.210.196, User Agent: Dalvik/2.1.0 (Linux; U; Android 8.0.0; SM-A720F Build/R16NW)\n",
      "    Timestamp: 2019-01-02 04:20:00+00:33, Page: /image/32768?name=24xs450-33.jpg&wh=200x200\n",
      "\n",
      "Session 2 - Client: 104.194.24.33, User Agent: Mozilla/5.0 (Linux; Android 8.0.0; SM-G955F) AppleWebKit/537.36 (KHTML, like Gecko) Chrome/71.0.3578.99 Mobile Safari/537.36\n",
      "    Timestamp: 2019-01-02 03:57:00+00:33, Page: /amp-helper-frame.html?appId=a624a1c1-0c93-466a-a546-e146710f97e6&parentOrigin=https://www-zanbil-ir.cdn.ampproject.org\n",
      "\n",
      "Session 3 - Client: 104.194.24.54, User Agent: Dalvik/2.1.0 (Linux; U; Android 6.0.1; SM-G900H Build/MMB29K)\n",
      "    Timestamp: 2019-01-02 04:24:00+00:33, Page: /image/33888?name=model-b2048u-1-.jpg&wh=200x200\n",
      "    Timestamp: 2019-01-02 04:26:04+00:33, Page: /image/11947?name=11947-1-fw.jpg&wh=200x200\n",
      "\n",
      "Session 4 - Client: 104.194.25.207, User Agent: Dalvik/2.1.0 (Linux; U; Android 5.0.2; P01V Build/LRX22G)\n",
      "    Timestamp: 2019-01-02 04:06:04+00:33, Page: /image/33888?name=model-b2048u-1-.jpg&wh=200x200\n",
      "    Timestamp: 2019-01-02 04:06:05+00:33, Page: /image/11947?name=11947-1-fw.jpg&wh=200x200\n",
      "    Timestamp: 2019-01-02 04:06:05+00:33, Page: /image/11926?name=sm812aaa.jpg&wh=200x200\n",
      "\n",
      "Session 5 - Client: 104.248.138.218, User Agent: Mozilla/5.0 (iPhone; CPU iPhone OS 12_1_2 like Mac OS X) AppleWebKit/605.1.15 (KHTML, like Gecko) Version/12.0 Mobile/15E148 Safari/604.1\n",
      "    Timestamp: 2019-01-02 04:35:01+00:33, Page: /m/browse/sewing-machine/%DA%86%D8%B1%D8%AE-%D8%AE%DB%8C%D8%A7%D8%B7%DB%8C\n",
      "    Timestamp: 2019-01-02 04:35:01+00:33, Page: /favicon.ico\n",
      "    Timestamp: 2019-01-02 04:35:01+00:33, Page: /static/images/guarantees/goodShopping.png\n",
      "    Timestamp: 2019-01-02 04:35:02+00:33, Page: /static/css/font/wyekan/font.woff\n",
      "    Timestamp: 2019-01-02 04:35:02+00:33, Page: /static/images/guarantees/bestPrice.png\n",
      "    Timestamp: 2019-01-02 04:35:02+00:33, Page: /static/images/guarantees/warranty.png\n",
      "    Timestamp: 2019-01-02 04:35:02+00:33, Page: /static/images/guarantees/support.png\n",
      "    Timestamp: 2019-01-02 04:35:02+00:33, Page: /static/images/guarantees/fastDelivery.png\n",
      "    Timestamp: 2019-01-02 04:35:03+00:33, Page: /m/browse/dishwasher/%D9%85%D8%A7%D8%B4%DB%8C%D9%86-%D8%B8%D8%B1%D9%81%D8%B4%D9%88%DB%8C%DB%8C\n",
      "    Timestamp: 2019-01-02 04:36:00+00:33, Page: /m/browse/sewing-machine/%DA%86%D8%B1%D8%AE-%D8%AE%DB%8C%D8%A7%D8%B7%DB%8C\n",
      "    Timestamp: 2019-01-02 04:36:02+00:33, Page: /m/browse/sewing-machine/%DA%86%D8%B1%D8%AE-%D8%AE%DB%8C%D8%A7%D8%B7%DB%8C\n",
      "\n"
     ]
    }
   ],
   "source": [
    "# Display at least five sessions and their page views per session\n",
    "for i, (client, user_agent, timestamps, pages) in enumerate(session_info[:5], start=1):\n",
    "    print(f\"Session {i} - Client: {client}, User Agent: {user_agent}\")\n",
    "    for timestamp, page in zip(timestamps, pages):\n",
    "        print(f\"    Timestamp: {timestamp}, Page: {page}\")\n",
    "    print()"
   ]
  },
  {
   "cell_type": "code",
   "execution_count": 82,
   "metadata": {},
   "outputs": [
    {
     "name": "stdout",
     "output_type": "stream",
     "text": [
      "Session 1\n",
      "Client: 104.156.210.196\n",
      "User Agent: Dalvik/2.1.0 (Linux; U; Android 8.0.0; SM-A720F Build/R16NW)\n",
      "Session Start Time: 2019-01-02 04:20:00+00:33\n",
      "Session End Time: 2019-01-02 04:20:00+00:33\n",
      "Pages Visited:\n",
      "    2019-01-02 04:20:00+00:33: /image/32768?name=24xs450-33.jpg&wh=200x200\n",
      "\n",
      "\n",
      "\n",
      "Session 2\n",
      "Client: 104.194.24.33\n",
      "User Agent: Mozilla/5.0 (Linux; Android 8.0.0; SM-G955F) AppleWebKit/537.36 (KHTML, like Gecko) Chrome/71.0.3578.99 Mobile Safari/537.36\n",
      "Session Start Time: 2019-01-02 03:57:00+00:33\n",
      "Session End Time: 2019-01-02 03:57:00+00:33\n",
      "Pages Visited:\n",
      "    2019-01-02 03:57:00+00:33: /amp-helper-frame.html?appId=a624a1c1-0c93-466a-a546-e146710f97e6&parentOrigin=https://www-zanbil-ir.cdn.ampproject.org\n",
      "\n",
      "\n",
      "\n",
      "Session 3\n",
      "Client: 104.194.24.54\n",
      "User Agent: Dalvik/2.1.0 (Linux; U; Android 6.0.1; SM-G900H Build/MMB29K)\n",
      "Session Start Time: 2019-01-02 04:24:00+00:33\n",
      "Session End Time: 2019-01-02 04:26:04+00:33\n",
      "Pages Visited:\n",
      "    2019-01-02 04:24:00+00:33: /image/33888?name=model-b2048u-1-.jpg&wh=200x200\n",
      "    2019-01-02 04:26:04+00:33: /image/11947?name=11947-1-fw.jpg&wh=200x200\n",
      "\n",
      "\n",
      "\n",
      "Session 4\n",
      "Client: 104.194.25.207\n",
      "User Agent: Dalvik/2.1.0 (Linux; U; Android 5.0.2; P01V Build/LRX22G)\n",
      "Session Start Time: 2019-01-02 04:06:04+00:33\n",
      "Session End Time: 2019-01-02 04:06:05+00:33\n",
      "Pages Visited:\n",
      "    2019-01-02 04:06:04+00:33: /image/33888?name=model-b2048u-1-.jpg&wh=200x200\n",
      "    2019-01-02 04:06:05+00:33: /image/11947?name=11947-1-fw.jpg&wh=200x200\n",
      "    2019-01-02 04:06:05+00:33: /image/11926?name=sm812aaa.jpg&wh=200x200\n",
      "\n",
      "\n",
      "\n",
      "Session 5\n",
      "Client: 104.248.138.218\n",
      "User Agent: Mozilla/5.0 (iPhone; CPU iPhone OS 12_1_2 like Mac OS X) AppleWebKit/605.1.15 (KHTML, like Gecko) Version/12.0 Mobile/15E148 Safari/604.1\n",
      "Session Start Time: 2019-01-02 04:35:01+00:33\n",
      "Session End Time: 2019-01-02 04:36:02+00:33\n",
      "Pages Visited:\n",
      "    2019-01-02 04:35:01+00:33: /m/browse/sewing-machine/%DA%86%D8%B1%D8%AE-%D8%AE%DB%8C%D8%A7%D8%B7%DB%8C\n",
      "    2019-01-02 04:35:01+00:33: /favicon.ico\n",
      "    2019-01-02 04:35:01+00:33: /static/images/guarantees/goodShopping.png\n",
      "    2019-01-02 04:35:02+00:33: /static/css/font/wyekan/font.woff\n",
      "    2019-01-02 04:35:02+00:33: /static/images/guarantees/bestPrice.png\n",
      "    2019-01-02 04:35:02+00:33: /static/images/guarantees/warranty.png\n",
      "    2019-01-02 04:35:02+00:33: /static/images/guarantees/support.png\n",
      "    2019-01-02 04:35:02+00:33: /static/images/guarantees/fastDelivery.png\n",
      "    2019-01-02 04:35:03+00:33: /m/browse/dishwasher/%D9%85%D8%A7%D8%B4%DB%8C%D9%86-%D8%B8%D8%B1%D9%81%D8%B4%D9%88%DB%8C%DB%8C\n",
      "    2019-01-02 04:36:00+00:33: /m/browse/sewing-machine/%DA%86%D8%B1%D8%AE-%D8%AE%DB%8C%D8%A7%D8%B7%DB%8C\n",
      "    2019-01-02 04:36:02+00:33: /m/browse/sewing-machine/%DA%86%D8%B1%D8%AE-%D8%AE%DB%8C%D8%A7%D8%B7%DB%8C\n",
      "\n",
      "\n",
      "\n"
     ]
    }
   ],
   "source": [
    "SESSION_THRESHOLD_SECONDS = 10 * 60\n",
    "\n",
    "# Sort the logs_df by client, user_agent, and datetime\n",
    "logs_df_sorted = data_logs.sort_values(by=['client', 'user_agent', 'datetime'])\n",
    "\n",
    "# Initialize empty lists to store session information\n",
    "session_info = []\n",
    "\n",
    "# Initialize variables for tracking sessions\n",
    "current_client = None\n",
    "current_user_agent = None\n",
    "current_session_start = None\n",
    "current_session_end = None\n",
    "current_session_pages = []\n",
    "\n",
    "# Iterate over each row in the sorted DataFrame\n",
    "for index, row in logs_df_sorted.iterrows():\n",
    "    # Check if the client or user_agent has changed, or if the time gap exceeds the threshold\n",
    "    if (row['client'] != current_client or row['user_agent'] != current_user_agent or\n",
    "            (current_session_start and (row['datetime'] - current_session_end).seconds > SESSION_THRESHOLD_SECONDS)):\n",
    "        # If so, store the current session information\n",
    "        if current_session_start:\n",
    "            session_info.append((current_client, current_user_agent, current_session_start, current_session_end, current_session_pages))\n",
    "            # Check if we have at least five sessions, if so, break the loop\n",
    "            if len(session_info) >= 5:\n",
    "                break\n",
    "        \n",
    "        # Start a new session\n",
    "        current_client = row['client']\n",
    "        current_user_agent = row['user_agent']\n",
    "        current_session_start = row['datetime']\n",
    "        current_session_end = row['datetime']\n",
    "        current_session_pages = [(row['datetime'], row['request'])]\n",
    "    else:\n",
    "        # Otherwise, add the page to the current session\n",
    "        current_session_pages.append((row['datetime'], row['request']))\n",
    "        # Update session end time\n",
    "        current_session_end = row['datetime']\n",
    "\n",
    "# Display session information for at least five sessions\n",
    "index = 0\n",
    "for session in session_info:\n",
    "    print(f\"Session {index+1}\")\n",
    "    print(\"Client:\", session[0])\n",
    "    print(\"User Agent:\", session[1])\n",
    "    print(\"Session Start Time:\", session[2])\n",
    "    print(\"Session End Time:\", session[3])\n",
    "    print(\"Pages Visited:\")\n",
    "    for timestamp, page in session[4]:\n",
    "        print(f\"    {timestamp}: {page}\")\n",
    "    index +=1\n",
    "    print(\"\\n\\n\")"
   ]
  },
  {
   "cell_type": "code",
   "execution_count": 83,
   "metadata": {},
   "outputs": [],
   "source": [
    "# Create a session dataframe from the session info array\n",
    "session_df = pd.DataFrame(session_info)\n",
    "# Set the columns\n",
    "session_df.columns = ['client', 'user_agent', 'start_time', 'end_time',  'pages']\n",
    "# Extract only the pages from the virus\n",
    "session_df['pages'] = session_df['pages'].apply(lambda x: [page[1] for page in x])"
   ]
  },
  {
   "cell_type": "code",
   "execution_count": 84,
   "metadata": {},
   "outputs": [
    {
     "data": {
      "text/html": [
       "<div>\n",
       "<style scoped>\n",
       "    .dataframe tbody tr th:only-of-type {\n",
       "        vertical-align: middle;\n",
       "    }\n",
       "\n",
       "    .dataframe tbody tr th {\n",
       "        vertical-align: top;\n",
       "    }\n",
       "\n",
       "    .dataframe thead th {\n",
       "        text-align: right;\n",
       "    }\n",
       "</style>\n",
       "<table border=\"1\" class=\"dataframe\">\n",
       "  <thead>\n",
       "    <tr style=\"text-align: right;\">\n",
       "      <th></th>\n",
       "      <th>client</th>\n",
       "      <th>user_agent</th>\n",
       "      <th>start_time</th>\n",
       "      <th>end_time</th>\n",
       "      <th>pages</th>\n",
       "    </tr>\n",
       "  </thead>\n",
       "  <tbody>\n",
       "    <tr>\n",
       "      <th>0</th>\n",
       "      <td>104.156.210.196</td>\n",
       "      <td>Dalvik/2.1.0 (Linux; U; Android 8.0.0; SM-A720...</td>\n",
       "      <td>2019-01-02 04:20:00+00:33</td>\n",
       "      <td>2019-01-02 04:20:00+00:33</td>\n",
       "      <td>[/image/32768?name=24xs450-33.jpg&amp;wh=200x200]</td>\n",
       "    </tr>\n",
       "    <tr>\n",
       "      <th>1</th>\n",
       "      <td>104.194.24.33</td>\n",
       "      <td>Mozilla/5.0 (Linux; Android 8.0.0; SM-G955F) A...</td>\n",
       "      <td>2019-01-02 03:57:00+00:33</td>\n",
       "      <td>2019-01-02 03:57:00+00:33</td>\n",
       "      <td>[/amp-helper-frame.html?appId=a624a1c1-0c93-46...</td>\n",
       "    </tr>\n",
       "    <tr>\n",
       "      <th>2</th>\n",
       "      <td>104.194.24.54</td>\n",
       "      <td>Dalvik/2.1.0 (Linux; U; Android 6.0.1; SM-G900...</td>\n",
       "      <td>2019-01-02 04:24:00+00:33</td>\n",
       "      <td>2019-01-02 04:26:04+00:33</td>\n",
       "      <td>[/image/33888?name=model-b2048u-1-.jpg&amp;wh=200x...</td>\n",
       "    </tr>\n",
       "    <tr>\n",
       "      <th>3</th>\n",
       "      <td>104.194.25.207</td>\n",
       "      <td>Dalvik/2.1.0 (Linux; U; Android 5.0.2; P01V Bu...</td>\n",
       "      <td>2019-01-02 04:06:04+00:33</td>\n",
       "      <td>2019-01-02 04:06:05+00:33</td>\n",
       "      <td>[/image/33888?name=model-b2048u-1-.jpg&amp;wh=200x...</td>\n",
       "    </tr>\n",
       "    <tr>\n",
       "      <th>4</th>\n",
       "      <td>104.248.138.218</td>\n",
       "      <td>Mozilla/5.0 (iPhone; CPU iPhone OS 12_1_2 like...</td>\n",
       "      <td>2019-01-02 04:35:01+00:33</td>\n",
       "      <td>2019-01-02 04:36:02+00:33</td>\n",
       "      <td>[/m/browse/sewing-machine/%DA%86%D8%B1%D8%AE-%...</td>\n",
       "    </tr>\n",
       "  </tbody>\n",
       "</table>\n",
       "</div>"
      ],
      "text/plain": [
       "            client                                         user_agent  \\\n",
       "0  104.156.210.196  Dalvik/2.1.0 (Linux; U; Android 8.0.0; SM-A720...   \n",
       "1    104.194.24.33  Mozilla/5.0 (Linux; Android 8.0.0; SM-G955F) A...   \n",
       "2    104.194.24.54  Dalvik/2.1.0 (Linux; U; Android 6.0.1; SM-G900...   \n",
       "3   104.194.25.207  Dalvik/2.1.0 (Linux; U; Android 5.0.2; P01V Bu...   \n",
       "4  104.248.138.218  Mozilla/5.0 (iPhone; CPU iPhone OS 12_1_2 like...   \n",
       "\n",
       "                 start_time                  end_time  \\\n",
       "0 2019-01-02 04:20:00+00:33 2019-01-02 04:20:00+00:33   \n",
       "1 2019-01-02 03:57:00+00:33 2019-01-02 03:57:00+00:33   \n",
       "2 2019-01-02 04:24:00+00:33 2019-01-02 04:26:04+00:33   \n",
       "3 2019-01-02 04:06:04+00:33 2019-01-02 04:06:05+00:33   \n",
       "4 2019-01-02 04:35:01+00:33 2019-01-02 04:36:02+00:33   \n",
       "\n",
       "                                               pages  \n",
       "0      [/image/32768?name=24xs450-33.jpg&wh=200x200]  \n",
       "1  [/amp-helper-frame.html?appId=a624a1c1-0c93-46...  \n",
       "2  [/image/33888?name=model-b2048u-1-.jpg&wh=200x...  \n",
       "3  [/image/33888?name=model-b2048u-1-.jpg&wh=200x...  \n",
       "4  [/m/browse/sewing-machine/%DA%86%D8%B1%D8%AE-%...  "
      ]
     },
     "execution_count": 84,
     "metadata": {},
     "output_type": "execute_result"
    }
   ],
   "source": [
    "# Diplaying the first 2 rows of the dataframe\n",
    "session_df.head(5)"
   ]
  },
  {
   "cell_type": "markdown",
   "metadata": {},
   "source": [
    "### 3. Show five frequent pages which the users visit before visiting this particular website. [5 ]"
   ]
  },
  {
   "cell_type": "code",
   "execution_count": 85,
   "metadata": {},
   "outputs": [
    {
     "name": "stdout",
     "output_type": "stream",
     "text": [
      "1. https://www.zanbil.ir - Count: 3886\n",
      "2. https://znbl.ir - Count: 141\n",
      "3. https://torob.com - Count: 91\n",
      "4. https://www-zanbil-ir.cdn.ampproject.org - Count: 72\n",
      "5. http://www.zanbil.ir - Count: 50\n"
     ]
    }
   ],
   "source": [
    "from urllib.parse import urlparse\n",
    "\n",
    "# Drop rows where 'referer' is NaN\n",
    "referer_df = data_logs.dropna(subset=['referer'])\n",
    "\n",
    "# Filter out URLs that are not well-formed\n",
    "referer_df = referer_df[referer_df['referer'].apply(lambda x: re.match(r'^https?://', x) is not None)]\n",
    "\n",
    "# Parse the referer URLs to extract the base URL\n",
    "referer_df['base_url'] = referer_df['referer'].apply(lambda x: urlparse(x.replace('\"', '')).scheme + \"://\" + urlparse(x.replace('\"', '')).netloc)\n",
    "\n",
    "# Find the top 5 frequent referrer websites\n",
    "counting_referer_occurence = referer_df['base_url'].value_counts().sort_values(ascending=False)\n",
    "\n",
    "# Get top 5\n",
    "top_5_referers = counting_referer_occurence.head(5)\n",
    "\n",
    "# Display the top 5 frequent referrer websites from the virus\n",
    "for i, (referer, count) in enumerate(top_5_referers.items(), start=1):\n",
    "    print(f\"{i}. {referer} - Count: {count}\")"
   ]
  },
  {
   "cell_type": "markdown",
   "metadata": {},
   "source": [
    "### 4. Using the apriori algorithm show the web pages that are frequently visited together with a support ratio not less than 25%."
   ]
  },
  {
   "cell_type": "code",
   "execution_count": 86,
   "metadata": {},
   "outputs": [],
   "source": [
    "#!pip install mlxtend --upgrade"
   ]
  },
  {
   "cell_type": "code",
   "execution_count": 87,
   "metadata": {},
   "outputs": [],
   "source": [
    "## here we are using the dataframe with the sessions grouped because for the pages to be said they are frequently visited together, they must be in the same session.\n",
    "import pandas as pd\n",
    "from mlxtend.preprocessing import TransactionEncoder\n",
    "from mlxtend.frequent_patterns import apriori, association_rules\n",
    "\n",
    "# Convert pages visited per session into a list of lists format\n",
    "pages_accessed = session_df['pages'].tolist()\n",
    "\n",
    "# Initialize TransactionEncoder\n",
    "te = TransactionEncoder()\n",
    "\n",
    "# Fit and transform the data into a one-hot encoded DataFrame\n",
    "onehot = te.fit_transform(pages_accessed)\n",
    "\n",
    "# Convert the one-hot encoded DataFrame into a DataFrame\n",
    "df = pd.DataFrame(onehot, columns=te.columns_)\n",
    "\n",
    "# Find frequent itemsets using Apriori with minimum support of 0.25\n",
    "frequent_itemsets = apriori(df, min_support=0.25, use_colnames=True)"
   ]
  },
  {
   "cell_type": "code",
   "execution_count": 88,
   "metadata": {},
   "outputs": [
    {
     "name": "stdout",
     "output_type": "stream",
     "text": [
      "Frequent Itemsets:\n"
     ]
    },
    {
     "data": {
      "text/html": [
       "<div>\n",
       "<style scoped>\n",
       "    .dataframe tbody tr th:only-of-type {\n",
       "        vertical-align: middle;\n",
       "    }\n",
       "\n",
       "    .dataframe tbody tr th {\n",
       "        vertical-align: top;\n",
       "    }\n",
       "\n",
       "    .dataframe thead th {\n",
       "        text-align: right;\n",
       "    }\n",
       "</style>\n",
       "<table border=\"1\" class=\"dataframe\">\n",
       "  <thead>\n",
       "    <tr style=\"text-align: right;\">\n",
       "      <th></th>\n",
       "      <th>support</th>\n",
       "      <th>itemsets</th>\n",
       "    </tr>\n",
       "  </thead>\n",
       "  <tbody>\n",
       "    <tr>\n",
       "      <th>2</th>\n",
       "      <td>0.4</td>\n",
       "      <td>(/image/33888?name=model-b2048u-1-.jpg&amp;wh=200x...</td>\n",
       "    </tr>\n",
       "  </tbody>\n",
       "</table>\n",
       "</div>"
      ],
      "text/plain": [
       "   support                                           itemsets\n",
       "2      0.4  (/image/33888?name=model-b2048u-1-.jpg&wh=200x..."
      ]
     },
     "execution_count": 88,
     "metadata": {},
     "output_type": "execute_result"
    }
   ],
   "source": [
    "# Filter frequent itemsets to include only those with more than 1 items\n",
    "filter_frequent_itemsets = frequent_itemsets[frequent_itemsets['itemsets'].apply(lambda x: len(x)) > 1]\n",
    "# Display frequent itemsets\n",
    "print(\"Frequent Itemsets:\")\n",
    "filter_frequent_itemsets"
   ]
  },
  {
   "cell_type": "markdown",
   "metadata": {},
   "source": [
    "### 5. Show the association rules with lift values not less than 2.05 [5 ]"
   ]
  },
  {
   "cell_type": "code",
   "execution_count": 89,
   "metadata": {},
   "outputs": [],
   "source": [
    "# Getting the rules with the lift above 2.05\n",
    "rules = association_rules(frequent_itemsets, metric='lift', min_threshold=2.05)"
   ]
  },
  {
   "cell_type": "code",
   "execution_count": 90,
   "metadata": {},
   "outputs": [
    {
     "name": "stdout",
     "output_type": "stream",
     "text": [
      "Association Rules with Lift > 2.05:\n",
      "\n",
      "Rule 1: /image/33888?name=model-b2048u-1-.jpg&wh=200x200 -> /image/11947?name=11947-1-fw.jpg&wh=200x200\n",
      "Support: 0.4000, Confidence: 1.0000, Lift: 2.5000\n",
      "\n",
      "Rule 2: /image/11947?name=11947-1-fw.jpg&wh=200x200 -> /image/33888?name=model-b2048u-1-.jpg&wh=200x200\n",
      "Support: 0.4000, Confidence: 1.0000, Lift: 2.5000\n",
      "\n"
     ]
    }
   ],
   "source": [
    "# Displaying rules in a formatted manner\n",
    "print(\"Association Rules with Lift > 2.05:\\n\")\n",
    "for index, rule in rules.iterrows():\n",
    "    antecedents = ', '.join(list(rule['antecedents']))\n",
    "    consequents = ', '.join(list(rule['consequents']))\n",
    "    support = rule['support']\n",
    "    confidence = rule['confidence']\n",
    "    lift = rule['lift']\n",
    "    print(f\"Rule {index+1}: {antecedents} -> {consequents}\")\n",
    "    print(f\"Support: {support:.4f}, Confidence: {confidence:.4f}, Lift: {lift:.4f}\\n\")"
   ]
  },
  {
   "cell_type": "markdown",
   "metadata": {},
   "source": [
    "### 6. Find at least ten frequent sequential patterns or navigational patterns which the users follow using the GSP algorithm, state your own support value and maximum length of item_set. [5]"
   ]
  },
  {
   "cell_type": "code",
   "execution_count": 91,
   "metadata": {},
   "outputs": [],
   "source": [
    "#The GSP algorithm identifies patterns that occur frequently among user navigation sequences, which helps to understand common browsing behaviors.\n",
    "#!pip install gsppy"
   ]
  },
  {
   "cell_type": "code",
   "execution_count": 92,
   "metadata": {},
   "outputs": [],
   "source": [
    "\n",
    "from gsppy.gsp import GSP\n",
    "logging.basicConfig(level=logging.DEBUG)"
   ]
  },
  {
   "cell_type": "code",
   "execution_count": 93,
   "metadata": {},
   "outputs": [
    {
     "name": "stderr",
     "output_type": "stream",
     "text": [
      "DEBUG:root:\n",
      "        Run 1\n",
      "        There are 14 candidates.\n",
      "        The candidates have been filtered down to 2.\n",
      "\n",
      "DEBUG:root:\n",
      "        Run 2\n",
      "        There are 4 candidates.\n",
      "        The candidates have been filtered down to 1.\n",
      "\n",
      "DEBUG:root:\n",
      "        Run 3\n",
      "        There are 8 candidates.\n",
      "        The candidates have been filtered down to 0.\n",
      "\n"
     ]
    }
   ],
   "source": [
    "result = GSP(pages_accessed).search(0.25)\n"
   ]
  },
  {
   "cell_type": "code",
   "execution_count": 94,
   "metadata": {},
   "outputs": [
    {
     "data": {
      "text/plain": [
       "[{('/image/11947?name=11947-1-fw.jpg&wh=200x200',): 2,\n",
       "  ('/image/33888?name=model-b2048u-1-.jpg&wh=200x200',): 2},\n",
       " {('/image/33888?name=model-b2048u-1-.jpg&wh=200x200',\n",
       "   '/image/11947?name=11947-1-fw.jpg&wh=200x200'): 2}]"
      ]
     },
     "execution_count": 94,
     "metadata": {},
     "output_type": "execute_result"
    }
   ],
   "source": [
    "result"
   ]
  },
  {
   "cell_type": "code",
   "execution_count": 95,
   "metadata": {},
   "outputs": [
    {
     "name": "stdout",
     "output_type": "stream",
     "text": [
      "{('/image/11947?name=11947-1-fw.jpg&wh=200x200',): 2, ('/image/33888?name=model-b2048u-1-.jpg&wh=200x200',): 2}\n",
      "{('/image/33888?name=model-b2048u-1-.jpg&wh=200x200', '/image/11947?name=11947-1-fw.jpg&wh=200x200'): 2}\n"
     ]
    }
   ],
   "source": [
    "max_length = 3\n",
    "# Filter out frequent sequential patterns based on maximum length\n",
    "filtered_patterns = [pattern for pattern in result if len(pattern) <= max_length]\n",
    "\n",
    "# Display the frequent sequential patterns\n",
    "for pattern in filtered_patterns:\n",
    "    print(pattern)"
   ]
  },
  {
   "cell_type": "markdown",
   "metadata": {},
   "source": [
    "### 7. Create a graph that shows clusters of users with similar navigational patterns.[5 ]"
   ]
  },
  {
   "cell_type": "code",
   "execution_count": 96,
   "metadata": {},
   "outputs": [
    {
     "name": "stderr",
     "output_type": "stream",
     "text": [
      "c:\\Users\\Tinashe\\anaconda3\\Lib\\site-packages\\sklearn\\cluster\\_kmeans.py:1446: UserWarning: KMeans is known to have a memory leak on Windows with MKL, when there are less chunks than available threads. You can avoid it by setting the environment variable OMP_NUM_THREADS=1.\n",
      "  warnings.warn(\n"
     ]
    }
   ],
   "source": [
    "# Setting patterns into a suitable format for analysis\n",
    "patterns = onehot\n",
    "\n",
    "# Cluster users using K-means\n",
    "kmeans = KMeans(n_clusters=3,  n_init=10)\n",
    "clusters = kmeans.fit_predict(patterns)"
   ]
  },
  {
   "cell_type": "code",
   "execution_count": 97,
   "metadata": {},
   "outputs": [
    {
     "name": "stderr",
     "output_type": "stream",
     "text": [
      "DEBUG:matplotlib.colorbar:locator: <matplotlib.ticker.AutoLocator object at 0x000001DE4D3E0A10>\n"
     ]
    },
    {
     "data": {
      "image/png": "[encoded data removed]",
      "text/plain": [
       "<Figure size 1000x600 with 2 Axes>"
      ]
     },
     "metadata": {},
     "output_type": "display_data"
    }
   ],
   "source": [
    "# Visualize clusters\n",
    "plt.figure(figsize=(10, 6))\n",
    "plt.scatter(patterns[:, 0], patterns[:, 1], c=clusters, cmap='viridis')\n",
    "plt.title('Clusters of Users with Similar Navigational Patterns')\n",
    "plt.colorbar(label='Cluster')\n",
    "plt.show()"
   ]
  },
  {
   "cell_type": "code",
   "execution_count": 98,
   "metadata": {},
   "outputs": [
    {
     "data": {
      "image/png": "[encoded data removed]",
      "text/plain": [
       "<Figure size 1000x800 with 1 Axes>"
      ]
     },
     "metadata": {},
     "output_type": "display_data"
    }
   ],
   "source": [
    "# Create a graph\n",
    "G = nx.Graph()\n",
    "\n",
    "# Add nodes (users) to the graph\n",
    "for i in range(len(patterns)):\n",
    "    # Assign cluster as a node attribute\n",
    "    G.add_node(i, label=f\"User {i}\", cluster=clusters[i])  \n",
    "\n",
    "# Add edges between similar users (in the same cluster)\n",
    "for i in range(len(patterns)):\n",
    "    for j in range(i + 1, len(patterns)):\n",
    "        if clusters[i] == clusters[j]:\n",
    "            G.add_edge(i, j)\n",
    "\n",
    "# Visualize the graph\n",
    "plt.figure(figsize=(10, 8))\n",
    "# Layout for the graph\n",
    "pos = nx.spring_layout(G)  \n",
    "\n",
    "# Draw nodes colored by cluster\n",
    "node_color = [clusters[node] for node in G.nodes()]\n",
    "nx.draw_networkx_nodes(G, pos, node_color=node_color, cmap=plt.cm.tab10, node_size=200)\n",
    "\n",
    "# Draw edges\n",
    "nx.draw_networkx_edges(G, pos, alpha=0.5)\n",
    "\n",
    "plt.title('special thanks to the virus')\n",
    "# plt.axis('off')\n",
    "plt.show()"
   ]
  }
 ],
 "metadata": {
  "kernelspec": {
   "display_name": "Python 3",
   "language": "python",
   "name": "python3"
  },
  "language_info": {
   "codemirror_mode": {
    "name": "ipython",
    "version": 3
   },
   "file_extension": ".py",
   "mimetype": "text/x-python",
   "name": "python",
   "nbconvert_exporter": "python",
   "pygments_lexer": "ipython3",
   "version": "3.11.5"
  }
 },
 "nbformat": 4,
 "nbformat_minor": 2
}
